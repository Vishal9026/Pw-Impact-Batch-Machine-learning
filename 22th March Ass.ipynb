{
 "cells": [
  {
   "cell_type": "markdown",
   "id": "cdf432a3-0ccf-47d0-ad0d-9ca5c7cb5839",
   "metadata": {},
   "source": [
    "# Q1. Pearson correlation coefficient is a measure of the linear relationship between two variables. Suppose you have collected data on the amount of time students spend studying for an exam and their final exam scores. Calculate the Pearson correlation coefficient between these two variables and interpret the result."
   ]
  },
  {
   "cell_type": "code",
   "execution_count": 4,
   "id": "dc92b2fe-7508-41e8-b0a2-66351447e2c2",
   "metadata": {},
   "outputs": [],
   "source": [
    "import pandas as pd"
   ]
  },
  {
   "cell_type": "code",
   "execution_count": 5,
   "id": "81b75570-f02e-4552-a50b-4803c18a92c6",
   "metadata": {},
   "outputs": [],
   "source": [
    "import numpy as np"
   ]
  },
  {
   "cell_type": "code",
   "execution_count": 6,
   "id": "00b2d825-f585-438c-8ba9-26190017e677",
   "metadata": {},
   "outputs": [],
   "source": [
    "df = pd.DataFrame({\"exam_time_study\":[8,6,7,10,11,5,4,6],\"final_exam_score\":[75,66,70,80,95,67,55,62]})"
   ]
  },
  {
   "cell_type": "code",
   "execution_count": 7,
   "id": "6acd23c6-2b9e-4e99-850a-1cfe8ab5ace9",
   "metadata": {},
   "outputs": [
    {
     "data": {
      "text/html": [
       "<div>\n",
       "<style scoped>\n",
       "    .dataframe tbody tr th:only-of-type {\n",
       "        vertical-align: middle;\n",
       "    }\n",
       "\n",
       "    .dataframe tbody tr th {\n",
       "        vertical-align: top;\n",
       "    }\n",
       "\n",
       "    .dataframe thead th {\n",
       "        text-align: right;\n",
       "    }\n",
       "</style>\n",
       "<table border=\"1\" class=\"dataframe\">\n",
       "  <thead>\n",
       "    <tr style=\"text-align: right;\">\n",
       "      <th></th>\n",
       "      <th>exam_time_study</th>\n",
       "      <th>final_exam_score</th>\n",
       "    </tr>\n",
       "  </thead>\n",
       "  <tbody>\n",
       "    <tr>\n",
       "      <th>0</th>\n",
       "      <td>8</td>\n",
       "      <td>75</td>\n",
       "    </tr>\n",
       "    <tr>\n",
       "      <th>1</th>\n",
       "      <td>6</td>\n",
       "      <td>66</td>\n",
       "    </tr>\n",
       "    <tr>\n",
       "      <th>2</th>\n",
       "      <td>7</td>\n",
       "      <td>70</td>\n",
       "    </tr>\n",
       "    <tr>\n",
       "      <th>3</th>\n",
       "      <td>10</td>\n",
       "      <td>80</td>\n",
       "    </tr>\n",
       "    <tr>\n",
       "      <th>4</th>\n",
       "      <td>11</td>\n",
       "      <td>95</td>\n",
       "    </tr>\n",
       "    <tr>\n",
       "      <th>5</th>\n",
       "      <td>5</td>\n",
       "      <td>67</td>\n",
       "    </tr>\n",
       "    <tr>\n",
       "      <th>6</th>\n",
       "      <td>4</td>\n",
       "      <td>55</td>\n",
       "    </tr>\n",
       "    <tr>\n",
       "      <th>7</th>\n",
       "      <td>6</td>\n",
       "      <td>62</td>\n",
       "    </tr>\n",
       "  </tbody>\n",
       "</table>\n",
       "</div>"
      ],
      "text/plain": [
       "   exam_time_study  final_exam_score\n",
       "0                8                75\n",
       "1                6                66\n",
       "2                7                70\n",
       "3               10                80\n",
       "4               11                95\n",
       "5                5                67\n",
       "6                4                55\n",
       "7                6                62"
      ]
     },
     "execution_count": 7,
     "metadata": {},
     "output_type": "execute_result"
    }
   ],
   "source": [
    "df"
   ]
  },
  {
   "cell_type": "code",
   "execution_count": 8,
   "id": "f4b2887d-d7c5-4bcc-9fe5-73cac69aa079",
   "metadata": {},
   "outputs": [
    {
     "data": {
      "text/html": [
       "<div>\n",
       "<style scoped>\n",
       "    .dataframe tbody tr th:only-of-type {\n",
       "        vertical-align: middle;\n",
       "    }\n",
       "\n",
       "    .dataframe tbody tr th {\n",
       "        vertical-align: top;\n",
       "    }\n",
       "\n",
       "    .dataframe thead th {\n",
       "        text-align: right;\n",
       "    }\n",
       "</style>\n",
       "<table border=\"1\" class=\"dataframe\">\n",
       "  <thead>\n",
       "    <tr style=\"text-align: right;\">\n",
       "      <th></th>\n",
       "      <th>exam_time_study</th>\n",
       "      <th>final_exam_score</th>\n",
       "    </tr>\n",
       "  </thead>\n",
       "  <tbody>\n",
       "    <tr>\n",
       "      <th>exam_time_study</th>\n",
       "      <td>1.000000</td>\n",
       "      <td>0.949033</td>\n",
       "    </tr>\n",
       "    <tr>\n",
       "      <th>final_exam_score</th>\n",
       "      <td>0.949033</td>\n",
       "      <td>1.000000</td>\n",
       "    </tr>\n",
       "  </tbody>\n",
       "</table>\n",
       "</div>"
      ],
      "text/plain": [
       "                  exam_time_study  final_exam_score\n",
       "exam_time_study          1.000000          0.949033\n",
       "final_exam_score         0.949033          1.000000"
      ]
     },
     "execution_count": 8,
     "metadata": {},
     "output_type": "execute_result"
    }
   ],
   "source": [
    "df.corr(method = \"pearson\")"
   ]
  },
  {
   "cell_type": "markdown",
   "id": "352a853b-0113-4fd6-b9dd-69874ed9f2e4",
   "metadata": {},
   "source": [
    "# Interpretation:"
   ]
  },
  {
   "cell_type": "markdown",
   "id": "e09ef83d-a24f-458b-aa06-f29d108d6211",
   "metadata": {},
   "source": [
    "The Pearson's correlation coefficients in the given results indicate a very strong positive correlation between the variables of \"exam_time_study\" and \"final_exam-score\".\n",
    "\n",
    "Both correlation coefficients are close to 1.000, which means that there is a very strong positive relationship between the two variables. This suggests that as \"exam_time_study\" increases, \"exam_score\" also increases."
   ]
  },
  {
   "cell_type": "markdown",
   "id": "f850aa93-c953-4f4e-9bbd-494ee7da2fc0",
   "metadata": {},
   "source": [
    "# Q2. Spearman's rank correlation is a measure of the monotonic relationship between two variables. Suppose you have collected data on the amount of sleep individuals get each night and their overall job satisfaction level on a scale of 1 to 10. Calculate the Spearman's rank correlation between these two variables and interpret the result."
   ]
  },
  {
   "cell_type": "code",
   "execution_count": 9,
   "id": "88a7b451-5fc7-4ae5-bf1d-9db60dd18305",
   "metadata": {},
   "outputs": [],
   "source": [
    "df = pd.DataFrame({\"sleep_amount\":[8,7,4,2,9,4,5,6,3,4],\"job_satisfaction\":[8,9,3,5,2,5,6,7,9,8]})"
   ]
  },
  {
   "cell_type": "code",
   "execution_count": 10,
   "id": "b8c45877-d666-4938-9b41-ab95dc4cf949",
   "metadata": {},
   "outputs": [
    {
     "data": {
      "text/html": [
       "<div>\n",
       "<style scoped>\n",
       "    .dataframe tbody tr th:only-of-type {\n",
       "        vertical-align: middle;\n",
       "    }\n",
       "\n",
       "    .dataframe tbody tr th {\n",
       "        vertical-align: top;\n",
       "    }\n",
       "\n",
       "    .dataframe thead th {\n",
       "        text-align: right;\n",
       "    }\n",
       "</style>\n",
       "<table border=\"1\" class=\"dataframe\">\n",
       "  <thead>\n",
       "    <tr style=\"text-align: right;\">\n",
       "      <th></th>\n",
       "      <th>sleep_amount</th>\n",
       "      <th>job_satisfaction</th>\n",
       "    </tr>\n",
       "  </thead>\n",
       "  <tbody>\n",
       "    <tr>\n",
       "      <th>sleep_amount</th>\n",
       "      <td>1.00000</td>\n",
       "      <td>-0.03096</td>\n",
       "    </tr>\n",
       "    <tr>\n",
       "      <th>job_satisfaction</th>\n",
       "      <td>-0.03096</td>\n",
       "      <td>1.00000</td>\n",
       "    </tr>\n",
       "  </tbody>\n",
       "</table>\n",
       "</div>"
      ],
      "text/plain": [
       "                  sleep_amount  job_satisfaction\n",
       "sleep_amount           1.00000          -0.03096\n",
       "job_satisfaction      -0.03096           1.00000"
      ]
     },
     "execution_count": 10,
     "metadata": {},
     "output_type": "execute_result"
    }
   ],
   "source": [
    "df.corr(method=\"spearman\")"
   ]
  },
  {
   "cell_type": "code",
   "execution_count": 11,
   "id": "77cf641d-8b7b-4cb8-b4f4-0f3dab27be79",
   "metadata": {},
   "outputs": [
    {
     "data": {
      "text/plain": [
       "-0.030959900698630718"
      ]
     },
     "execution_count": 11,
     "metadata": {},
     "output_type": "execute_result"
    }
   ],
   "source": [
    "df['sleep_amount'].corr(df['job_satisfaction'], method='spearman')"
   ]
  },
  {
   "cell_type": "markdown",
   "id": "bd7a3951-9b63-4d85-a191-0fe8dde2dca4",
   "metadata": {},
   "source": [
    "Interpretation:\n",
    "The correlation coefficient between Sleep Amount and Job Satisfaction is -0.03096, which is -1. This indicates a negative monotonic correlation between these two variables."
   ]
  },
  {
   "cell_type": "markdown",
   "id": "e9a201ff-a8f6-4c78-b295-06012947b09b",
   "metadata": {},
   "source": [
    "As the amount of sleep individuals get each night increases, their overall job satisfaction level tends to decrease as well. Conversely, as the amount of sleep decreases, job satisfaction tends to increase."
   ]
  },
  {
   "cell_type": "markdown",
   "id": "b614cb84-64c5-48d3-8f6b-8a42124ec07d",
   "metadata": {},
   "source": [
    "# Q3. Suppose you are conducting a study to examine the relationship between the number of hours of exercise per week and body mass index (BMI) in a sample of adults. You collected data on both variables for 50 participants. Calculate the Pearson correlation coefficient and the Spearman's rank correlation between these two variables and compare the results."
   ]
  },
  {
   "cell_type": "code",
   "execution_count": 12,
   "id": "d2f0449d-3241-4ffd-9c2a-53550d0ac293",
   "metadata": {},
   "outputs": [
    {
     "name": "stdout",
     "output_type": "stream",
     "text": [
      "             exe_perweek       bmi\n",
      "exe_perweek     1.000000 -0.105518\n",
      "bmi            -0.105518  1.000000\n",
      "             exe_perweek       bmi\n",
      "exe_perweek     1.000000 -0.096828\n",
      "bmi            -0.096828  1.000000\n"
     ]
    }
   ],
   "source": [
    "import numpy as np\n",
    "import pandas as pd\n",
    "\n",
    "np.random.seed(2)\n",
    "\n",
    "excercise_perweek = np.random.randint(5,15,51)\n",
    "BMI = np.random.randint(17,29,51)\n",
    "df1 = pd.DataFrame({\"exe_perweek\":excercise_perweek,\"bmi\":BMI})\n",
    "print(df1.corr(method=\"pearson\"))\n",
    "print(df1.corr(method = \"spearman\"))\n"
   ]
  },
  {
   "cell_type": "markdown",
   "id": "ee1772af-4795-4561-a1a2-3d99af2ca386",
   "metadata": {},
   "source": [
    "# Results Comparison:\n",
    "\n",
    "The Pearson correlation coefficient measures the linear relationship between two variables, and it ranges from -1 (perfect negative correlation) to +1 (perfect positive correlation), with 0 indicating no correlation. In this case, the Pearson correlation coefficient between exe_perweek and bmi is -0.105518, which indicates a weak negative correlation between the two variables.\n",
    "\n",
    "On the other hand, the Spearman correlation coefficient measures the monotonic relationship between two variables, which means it assesses the strength and direction of a relationship between two variables, without assuming any particular functional form of the relationship. It also ranges from -1 to +1, with 0 indicating no correlation. In this case, the Spearman correlation coefficient between exe_perweek and bmi is -0.096828, which also indicates a weak negative correlation between the two variables."
   ]
  },
  {
   "cell_type": "markdown",
   "id": "d9e1b017-e158-4dac-8c90-72dd9b4dc11a",
   "metadata": {},
   "source": [
    "# Q4. A researcher is interested in examining the relationship between the number of hours individuals spend watching television per day and their level of physical activity. The researcher collected data on both variables from a sample of 50 participants. Calculate the Pearson correlation coefficient between these two variables."
   ]
  },
  {
   "cell_type": "code",
   "execution_count": 21,
   "id": "e60d10e0-a2aa-4d87-8227-2d69a1c76b10",
   "metadata": {},
   "outputs": [
    {
     "data": {
      "text/html": [
       "<div>\n",
       "<style scoped>\n",
       "    .dataframe tbody tr th:only-of-type {\n",
       "        vertical-align: middle;\n",
       "    }\n",
       "\n",
       "    .dataframe tbody tr th {\n",
       "        vertical-align: top;\n",
       "    }\n",
       "\n",
       "    .dataframe thead th {\n",
       "        text-align: right;\n",
       "    }\n",
       "</style>\n",
       "<table border=\"1\" class=\"dataframe\">\n",
       "  <thead>\n",
       "    <tr style=\"text-align: right;\">\n",
       "      <th></th>\n",
       "      <th>Television</th>\n",
       "      <th>Physical_activity</th>\n",
       "    </tr>\n",
       "  </thead>\n",
       "  <tbody>\n",
       "    <tr>\n",
       "      <th>Television</th>\n",
       "      <td>1.000000</td>\n",
       "      <td>-0.141219</td>\n",
       "    </tr>\n",
       "    <tr>\n",
       "      <th>Physical_activity</th>\n",
       "      <td>-0.141219</td>\n",
       "      <td>1.000000</td>\n",
       "    </tr>\n",
       "  </tbody>\n",
       "</table>\n",
       "</div>"
      ],
      "text/plain": [
       "                   Television  Physical_activity\n",
       "Television           1.000000          -0.141219\n",
       "Physical_activity   -0.141219           1.000000"
      ]
     },
     "execution_count": 21,
     "metadata": {},
     "output_type": "execute_result"
    }
   ],
   "source": [
    "# First we create 50 sample of the number of hours individuals spend watching television per day and their level of physical activity by using python generate random function,then calculate the person correlation coefficient:\n",
    "\n",
    "import pandas as pd\n",
    "import numpy as np\n",
    "\n",
    "np.random.seed(45)\n",
    "\n",
    "TV_perday = np.random.randint(3,8,51)\n",
    "pa = np.random.randint(6,15,51)\n",
    "\n",
    "df2 = pd.DataFrame({\"Television\":TV_perday,\"Physical_activity\":pa})\n",
    "\n",
    "#person correlation\n",
    "df2.corr(method = \"pearson\")"
   ]
  },
  {
   "cell_type": "markdown",
   "id": "0be5cfeb-c5ba-4ebd-931b-102a91a5f672",
   "metadata": {},
   "source": [
    "# Q5. A survey was conducted to examine the relationship between age and preference for a particular brand of soft drink. The survey results are shown below:"
   ]
  },
  {
   "attachments": {
    "577cb36d-f861-4a9b-98a2-159e6036628a.png": {
     "image/png": "[encoded data removed]"
    }
   },
   "cell_type": "markdown",
   "id": "c1a88b90-93b8-4c81-94db-8d653a92fd7c",
   "metadata": {},
   "source": [
    "![image.png](attachment:577cb36d-f861-4a9b-98a2-159e6036628a.png)"
   ]
  },
  {
   "cell_type": "markdown",
   "id": "1f51275f-c367-4e81-a5c6-18d6b16e6f55",
   "metadata": {},
   "source": [
    "# Note:question is incomplete,So we assume to calculate pearson and spearman's correlation between the variable"
   ]
  },
  {
   "cell_type": "code",
   "execution_count": 33,
   "id": "36287800-bc4d-42ae-95a4-4e681d58456f",
   "metadata": {},
   "outputs": [
    {
     "name": "stdout",
     "output_type": "stream",
     "text": [
      "                                Age  Soft_drink_preference_eco\n",
      "Age                        1.000000                   0.769175\n",
      "Soft_drink_preference_eco  0.769175                   1.000000\n",
      "                                Age  Soft_drink_preference_eco\n",
      "Age                        1.000000                   0.833238\n",
      "Soft_drink_preference_eco  0.833238                   1.000000\n"
     ]
    },
    {
     "name": "stderr",
     "output_type": "stream",
     "text": [
      "/opt/conda/lib/python3.10/site-packages/sklearn/preprocessing/_label.py:116: DataConversionWarning: A column-vector y was passed when a 1d array was expected. Please change the shape of y to (n_samples, ), for example using ravel().\n",
      "  y = column_or_1d(y, warn=True)\n"
     ]
    }
   ],
   "source": [
    "import pandas as pd\n",
    "import numpy as np\n",
    "\n",
    "df4 = pd.DataFrame({\"Age\":[25,42,37,19,31,28],\"Soft_drink_preference\":[\"Coke\",\"Pepsi\",\"Mountain dew\",\"Coke\",\"Pepsi\",\"Coke\"]})\n",
    "\n",
    "from sklearn.preprocessing import LabelEncoder\n",
    "\n",
    "encoder = LabelEncoder()\n",
    "\n",
    "encoded = encoder.fit_transform(df4[[\"Soft_drink_preference\"]])\n",
    "\n",
    "df_encoded = pd.DataFrame(encoded,columns=[\"Soft_drink_preference_eco\"])\n",
    "\n",
    "df_new = pd.concat([df4,df_encoded],axis = 1)\n",
    "df_new = df_new.drop(\"Soft_drink_preference\",axis = 1)\n",
    "\n",
    "print(df_new.corr(method = \"pearson\"))\n",
    "print(df_new.corr(method = \"spearman\"))\n"
   ]
  },
  {
   "cell_type": "markdown",
   "id": "93409d7c-8b35-4343-b746-af1cf41cb3fd",
   "metadata": {},
   "source": [
    "# Q6. A company is interested in examining the relationship between the number of sales calls made per day and the number of sales made per week. The company collected data on both variables from a sample of 30 sales representatives. Calculate the Pearson correlation coefficient between these two variables."
   ]
  },
  {
   "cell_type": "code",
   "execution_count": 39,
   "id": "bcbee269-2b94-4002-b5b4-bbd239304f43",
   "metadata": {},
   "outputs": [
    {
     "data": {
      "text/html": [
       "<div>\n",
       "<style scoped>\n",
       "    .dataframe tbody tr th:only-of-type {\n",
       "        vertical-align: middle;\n",
       "    }\n",
       "\n",
       "    .dataframe tbody tr th {\n",
       "        vertical-align: top;\n",
       "    }\n",
       "\n",
       "    .dataframe thead th {\n",
       "        text-align: right;\n",
       "    }\n",
       "</style>\n",
       "<table border=\"1\" class=\"dataframe\">\n",
       "  <thead>\n",
       "    <tr style=\"text-align: right;\">\n",
       "      <th></th>\n",
       "      <th>Sales_call_per_day</th>\n",
       "      <th>Sales_make_per_week</th>\n",
       "    </tr>\n",
       "  </thead>\n",
       "  <tbody>\n",
       "    <tr>\n",
       "      <th>Sales_call_per_day</th>\n",
       "      <td>1.000000</td>\n",
       "      <td>-0.341955</td>\n",
       "    </tr>\n",
       "    <tr>\n",
       "      <th>Sales_make_per_week</th>\n",
       "      <td>-0.341955</td>\n",
       "      <td>1.000000</td>\n",
       "    </tr>\n",
       "  </tbody>\n",
       "</table>\n",
       "</div>"
      ],
      "text/plain": [
       "                     Sales_call_per_day  Sales_make_per_week\n",
       "Sales_call_per_day             1.000000            -0.341955\n",
       "Sales_make_per_week           -0.341955             1.000000"
      ]
     },
     "execution_count": 39,
     "metadata": {},
     "output_type": "execute_result"
    }
   ],
   "source": [
    "import pandas as pd\n",
    "import numpy as np\n",
    "\n",
    "np.random.seed(55)\n",
    "\n",
    "Sales_call = np.random.randint(10,75,31)\n",
    "Sales_make = np.random.randint(2,15,31)\n",
    "\n",
    "df5 = pd.DataFrame({\"Sales_call_per_day\":Sales_call,\"Sales_make_per_week\":Sales_make})\n",
    "\n",
    "\n",
    "#Person correlation cofficient\n",
    "df5.corr(method = \"pearson\")"
   ]
  },
  {
   "cell_type": "code",
   "execution_count": null,
   "id": "8ca703e7-9a62-4f27-9992-73535263032b",
   "metadata": {},
   "outputs": [],
   "source": []
  }
 ],
 "metadata": {
  "kernelspec": {
   "display_name": "Python 3 (ipykernel)",
   "language": "python",
   "name": "python3"
  },
  "language_info": {
   "codemirror_mode": {
    "name": "ipython",
    "version": 3
   },
   "file_extension": ".py",
   "mimetype": "text/x-python",
   "name": "python",
   "nbconvert_exporter": "python",
   "pygments_lexer": "ipython3",
   "version": "3.10.8"
  }
 },
 "nbformat": 4,
 "nbformat_minor": 5
}

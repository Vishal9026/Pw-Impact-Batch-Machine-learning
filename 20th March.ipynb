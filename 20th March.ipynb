{
 "cells": [
  {
   "cell_type": "markdown",
   "id": "9b9ba791-68f6-4c80-acfe-d8581ac2c069",
   "metadata": {},
   "source": [
    "# Q1. What is data encoding? How is it useful in data science?"
   ]
  },
  {
   "cell_type": "markdown",
   "id": "c103db2a-8571-4c0d-8253-5730a07d1e8d",
   "metadata": {},
   "source": [
    "Encoding is the process of converting data from one form to another.\n",
    "\n",
    "In data encoding,categorical data converted numerical data.\n",
    "\n",
    "Yes,it is useful in data science because in machine learning it is difficult to handle categorical data as compare to numerical data.so we try to convert categorical data into numerical data by using different type of technique.Due to this machine learning model trained better way."
   ]
  },
  {
   "cell_type": "markdown",
   "id": "debf853b-e38d-47dc-bbfa-90473131de60",
   "metadata": {},
   "source": [
    "# Q2. What is nominal encoding? Provide an example of how you would use it in a real-world scenario."
   ]
  },
  {
   "cell_type": "markdown",
   "id": "00fdadca-0284-44da-a476-db50ac1d39d7",
   "metadata": {},
   "source": [
    "Nominal encoding is also know as One Hot Encoding.Encoding each categorical variable with different Boolean variables (also called dummy variables) which take values 0 or 1, indicating if a category is present in an observation."
   ]
  },
  {
   "cell_type": "code",
   "execution_count": 15,
   "id": "fa979ba8-5b49-4dc4-94a5-9320c2b9a877",
   "metadata": {},
   "outputs": [],
   "source": [
    "from sklearn.preprocessing import OneHotEncoder\n",
    "import pandas as pd"
   ]
  },
  {
   "cell_type": "code",
   "execution_count": 16,
   "id": "8e40ab65-246f-4c8f-9e13-47829dfbde4a",
   "metadata": {},
   "outputs": [],
   "source": [
    "df = pd.DataFrame({\"online_payment\":[\"google_pay\",\"phone_pay\",\"amazon_pay\"]})"
   ]
  },
  {
   "cell_type": "code",
   "execution_count": 17,
   "id": "23b27d16-f6fb-4aa2-acb2-f655aaca6848",
   "metadata": {},
   "outputs": [],
   "source": [
    "encoder = OneHotEncoder()"
   ]
  },
  {
   "cell_type": "code",
   "execution_count": 18,
   "id": "1fe649a1-3634-4f43-8162-c68e34771875",
   "metadata": {},
   "outputs": [],
   "source": [
    "encoded = encoder.fit_transform(df[[\"online_payment\"]])"
   ]
  },
  {
   "cell_type": "code",
   "execution_count": 19,
   "id": "4da87041-0d23-40a9-864b-84c1c14051f7",
   "metadata": {},
   "outputs": [
    {
     "data": {
      "text/plain": [
       "<3x3 sparse matrix of type '<class 'numpy.float64'>'\n",
       "\twith 3 stored elements in Compressed Sparse Row format>"
      ]
     },
     "execution_count": 19,
     "metadata": {},
     "output_type": "execute_result"
    }
   ],
   "source": [
    "encoded"
   ]
  },
  {
   "cell_type": "code",
   "execution_count": 20,
   "id": "8dfcdb90-b80c-4b42-9cde-87b930ef7356",
   "metadata": {},
   "outputs": [],
   "source": [
    "encoded_df = pd.DataFrame(encoded.toarray(),columns = encoder.get_feature_names_out())\n"
   ]
  },
  {
   "cell_type": "code",
   "execution_count": 21,
   "id": "a0e9f07e-9bad-4dd2-a4bf-c2e1fb787e61",
   "metadata": {},
   "outputs": [
    {
     "data": {
      "text/html": [
       "<div>\n",
       "<style scoped>\n",
       "    .dataframe tbody tr th:only-of-type {\n",
       "        vertical-align: middle;\n",
       "    }\n",
       "\n",
       "    .dataframe tbody tr th {\n",
       "        vertical-align: top;\n",
       "    }\n",
       "\n",
       "    .dataframe thead th {\n",
       "        text-align: right;\n",
       "    }\n",
       "</style>\n",
       "<table border=\"1\" class=\"dataframe\">\n",
       "  <thead>\n",
       "    <tr style=\"text-align: right;\">\n",
       "      <th></th>\n",
       "      <th>online_payment_amazon_pay</th>\n",
       "      <th>online_payment_google_pay</th>\n",
       "      <th>online_payment_phone_pay</th>\n",
       "    </tr>\n",
       "  </thead>\n",
       "  <tbody>\n",
       "    <tr>\n",
       "      <th>0</th>\n",
       "      <td>0.0</td>\n",
       "      <td>1.0</td>\n",
       "      <td>0.0</td>\n",
       "    </tr>\n",
       "    <tr>\n",
       "      <th>1</th>\n",
       "      <td>0.0</td>\n",
       "      <td>0.0</td>\n",
       "      <td>1.0</td>\n",
       "    </tr>\n",
       "    <tr>\n",
       "      <th>2</th>\n",
       "      <td>1.0</td>\n",
       "      <td>0.0</td>\n",
       "      <td>0.0</td>\n",
       "    </tr>\n",
       "  </tbody>\n",
       "</table>\n",
       "</div>"
      ],
      "text/plain": [
       "   online_payment_amazon_pay  online_payment_google_pay  \\\n",
       "0                        0.0                        1.0   \n",
       "1                        0.0                        0.0   \n",
       "2                        1.0                        0.0   \n",
       "\n",
       "   online_payment_phone_pay  \n",
       "0                       0.0  \n",
       "1                       1.0  \n",
       "2                       0.0  "
      ]
     },
     "execution_count": 21,
     "metadata": {},
     "output_type": "execute_result"
    }
   ],
   "source": [
    "encoded_df"
   ]
  },
  {
   "cell_type": "code",
   "execution_count": 25,
   "id": "adbb2f05-4d4d-463c-900b-122cc5a5c746",
   "metadata": {},
   "outputs": [],
   "source": [
    "df1 = pd.concat([df,encoded_df],axis= 1)"
   ]
  },
  {
   "cell_type": "code",
   "execution_count": 26,
   "id": "026fde6a-96ce-4495-9a82-2099bb0be0c2",
   "metadata": {},
   "outputs": [
    {
     "data": {
      "text/html": [
       "<div>\n",
       "<style scoped>\n",
       "    .dataframe tbody tr th:only-of-type {\n",
       "        vertical-align: middle;\n",
       "    }\n",
       "\n",
       "    .dataframe tbody tr th {\n",
       "        vertical-align: top;\n",
       "    }\n",
       "\n",
       "    .dataframe thead th {\n",
       "        text-align: right;\n",
       "    }\n",
       "</style>\n",
       "<table border=\"1\" class=\"dataframe\">\n",
       "  <thead>\n",
       "    <tr style=\"text-align: right;\">\n",
       "      <th></th>\n",
       "      <th>online_payment</th>\n",
       "      <th>online_payment_amazon_pay</th>\n",
       "      <th>online_payment_google_pay</th>\n",
       "      <th>online_payment_phone_pay</th>\n",
       "    </tr>\n",
       "  </thead>\n",
       "  <tbody>\n",
       "    <tr>\n",
       "      <th>0</th>\n",
       "      <td>google_pay</td>\n",
       "      <td>0.0</td>\n",
       "      <td>1.0</td>\n",
       "      <td>0.0</td>\n",
       "    </tr>\n",
       "    <tr>\n",
       "      <th>1</th>\n",
       "      <td>phone_pay</td>\n",
       "      <td>0.0</td>\n",
       "      <td>0.0</td>\n",
       "      <td>1.0</td>\n",
       "    </tr>\n",
       "    <tr>\n",
       "      <th>2</th>\n",
       "      <td>amazon_pay</td>\n",
       "      <td>1.0</td>\n",
       "      <td>0.0</td>\n",
       "      <td>0.0</td>\n",
       "    </tr>\n",
       "  </tbody>\n",
       "</table>\n",
       "</div>"
      ],
      "text/plain": [
       "  online_payment  online_payment_amazon_pay  online_payment_google_pay  \\\n",
       "0     google_pay                        0.0                        1.0   \n",
       "1      phone_pay                        0.0                        0.0   \n",
       "2     amazon_pay                        1.0                        0.0   \n",
       "\n",
       "   online_payment_phone_pay  \n",
       "0                       0.0  \n",
       "1                       1.0  \n",
       "2                       0.0  "
      ]
     },
     "execution_count": 26,
     "metadata": {},
     "output_type": "execute_result"
    }
   ],
   "source": [
    "df1"
   ]
  },
  {
   "cell_type": "markdown",
   "id": "9628e678-b39f-4127-a3b8-64326c44288a",
   "metadata": {},
   "source": [
    "# Q3. In what situations is nominal encoding preferred over one-hot encoding? Provide a practical example"
   ]
  },
  {
   "cell_type": "markdown",
   "id": "3d9d21c2-4efb-4f37-85d6-4b012c548f2b",
   "metadata": {},
   "source": [
    "Nominal encoding and one-hot encoding are actually the same thing, and the terms are often used interchangeably. One-hot encoding is a type of nominal encoding where each category value is assigned a binary value, and it is the most commonly used nominal encoding technique in data science.\n",
    "\n",
    "However, there is another type of nominal encoding called label encoding, where each unique category value is assigned a numerical label. Label encoding can be useful in situations where the categorical values have an inherent order or ranking, such as rating scales or levels of education.\n",
    "\n",
    "For example, in a dataset of job applicants, we might have a feature for the level of education, with values such as high school, bachelor's degree, and master's degree. We could use label encoding to assign numerical labels to each of these values, with high school as 1, bachelor's degree as 2, and master's degree as 3. This would allow us to preserve the inherent order of the values while still transforming them into numerical data for use in machine learning algorithms.\n",
    "\n"
   ]
  },
  {
   "cell_type": "markdown",
   "id": "976cdae3-d8ca-4171-b0ef-0a24b23d8ed0",
   "metadata": {},
   "source": [
    "# Q4. Suppose you have a dataset containing categorical data with 5 unique values. Which encoding technique would you use to transform this data into a format suitable for machine learning algorithms? Explain why you made this choice."
   ]
  },
  {
   "cell_type": "markdown",
   "id": "fa6bb13a-04c0-419f-81ac-038d3b72059d",
   "metadata": {},
   "source": [
    "If we have a dataset containing categorical data with 5 unique values, we could use nominal encoding techniques such as one-hot encoding to transform this data into a format suitable for machine learning algorithms. In one-hot encoding, we would create 5 new binary features, one for each unique category value, and assign a value of 1 to the corresponding feature for each data point.\n",
    "\n",
    "The reason why we would choose one-hot encoding in this scenario is that nominal encoding techniques such as one-hot encoding are preferred for categorical data because they can accurately represent the categorical data in numerical form without creating false relationships between categories. Other encoding techniques, such as label encoding, can create false relationships between categories by assigning numerical labels that imply an order or ranking to the categories."
   ]
  },
  {
   "cell_type": "markdown",
   "id": "f6ca8b81-9cab-4d30-bb2b-087db78527b7",
   "metadata": {},
   "source": [
    "# Q5. In a machine learning project, you have a dataset with 1000 rows and 5 columns. Two of the columns are categorical, and the remaining three columns are numerical. If you were to use nominal encoding to transform the categorical data, how many new columns would be created? Show your calculations."
   ]
  },
  {
   "cell_type": "markdown",
   "id": "2c83b005-a9f0-4ac3-afb4-98d64a799f36",
   "metadata": {},
   "source": [
    "Nominal encoding, also known as one-hot encoding, creates a new binary column for each category in the original categorical column.\n",
    "\n",
    "Let's assume the two categorical columns have m and n categories, respectively. To calculate the number of new columns that will be created after nominal encoding, we can use the following formula:\n",
    "\n",
    "Number of new columns = m + n - 2\n",
    "\n",
    "The reason we subtract 2 is because one binary column will be created for each category, and we only need to create m+n-2 columns to capture all the information in the two categorical columns, as the last category can be inferred from the others.\n",
    "\n",
    "Therefore, for this dataset with 2 categorical columns, if the first column has 4 categories and the second column has 6 categories, then the number of new columns created after nominal encoding would be:\n",
    "\n",
    "Number of new columns = 4 + 6 - 2\n",
    "= 8\n",
    "\n",
    "So, after nominal encoding, the dataset would have 1000 rows and 8 columns.\n"
   ]
  },
  {
   "cell_type": "markdown",
   "id": "0173c6e5-34f3-46fb-ab74-93dbb1563bb2",
   "metadata": {},
   "source": [
    "# Q6. You are working with a dataset containing information about different types of animals, including their species, habitat, and diet. Which encoding technique would you use to transform the categorical data into a format suitable for machine learning algorithms? Justify your answer."
   ]
  },
  {
   "cell_type": "markdown",
   "id": "2f9f9ca0-8e99-4b6b-b658-b0e815dfb7ce",
   "metadata": {},
   "source": [
    "For transforming the categorical data in the animal dataset, I would use nominal encoding techniques, such as one-hot encoding. This is because nominal encoding techniques are preferred for categorical data since they can accurately represent the categorical data in numerical form without creating false relationships between categories.\n",
    "\n",
    "In the animal dataset, we have categorical variables such as species, habitat, and diet. One-hot encoding would be a suitable technique for encoding these variables. For example, we could create binary features for each unique value in the species variable, such as lion, tiger, and leopard. Similarly, we could create binary features for each unique value in the habitat and diet variables, such as forest, grassland, and carnivorous."
   ]
  },
  {
   "cell_type": "markdown",
   "id": "1f910cc8-34fa-4829-ac9f-a998d7fd6948",
   "metadata": {},
   "source": [
    "# Q7. You are working on a project that involves predicting customer churn for a telecommunications company. You have a dataset with 5 features, including the customer's gender, age, contract type, monthly charges, and tenure. Which encoding technique(s) would you use to transform the categorical data into numerical data? Provide a step-by-step explanation of how you would implement the encoding.\n"
   ]
  },
  {
   "cell_type": "markdown",
   "id": "626d6c41-434d-457f-9fbb-4ddb3c617d26",
   "metadata": {},
   "source": [
    "For transforming the categorical data in the customer churn dataset into numerical data, I would use nominal encoding techniques, such as one-hot encoding, since it is one of the most commonly used techniques for encoding categorical data. Here is how I would implement the encoding step-by-step:\n",
    "\n",
    "1-Identify the categorical variables in the dataset. In this case, the only categorical variable is the customer's gender.\n",
    "\n",
    "2-Apply one-hot encoding to the categorical variable. This involves creating a new binary feature for each unique category value in the gender variable (i.e., male and female). We can achieve this by using the get_dummies() function in Python's Pandas library. This function creates new binary columns for each unique category value and assigns a value of 1 to the corresponding column for each data point."
   ]
  },
  {
   "cell_type": "code",
   "execution_count": null,
   "id": "e38e0dee-8742-4ed2-9593-6c3d93270b8c",
   "metadata": {},
   "outputs": [],
   "source": []
  },
  {
   "cell_type": "code",
   "execution_count": null,
   "id": "bef5131b-f771-44d7-9871-a5e90d1706b4",
   "metadata": {},
   "outputs": [],
   "source": []
  },
  {
   "cell_type": "code",
   "execution_count": null,
   "id": "90f816b0-e7d4-4dd2-9151-96d4ae2338e5",
   "metadata": {},
   "outputs": [],
   "source": []
  },
  {
   "cell_type": "code",
   "execution_count": null,
   "id": "4976ec4d-7ecb-4d18-8804-fb839ab6c750",
   "metadata": {},
   "outputs": [],
   "source": []
  },
  {
   "cell_type": "code",
   "execution_count": null,
   "id": "cdb45291-0e67-4228-9a1d-68f286a062d6",
   "metadata": {},
   "outputs": [],
   "source": []
  },
  {
   "cell_type": "code",
   "execution_count": null,
   "id": "f393bfb6-9e0e-46d8-8df9-94ff3c377c44",
   "metadata": {},
   "outputs": [],
   "source": []
  },
  {
   "cell_type": "code",
   "execution_count": null,
   "id": "d2f2244d-4096-4a2d-8e5a-7314f55382a0",
   "metadata": {},
   "outputs": [],
   "source": []
  },
  {
   "cell_type": "code",
   "execution_count": null,
   "id": "69f63d8b-b35b-4180-a23a-1545dfb271ee",
   "metadata": {},
   "outputs": [],
   "source": []
  },
  {
   "cell_type": "code",
   "execution_count": null,
   "id": "0cf15de7-100f-4f66-b01d-edb5fd54e1f3",
   "metadata": {},
   "outputs": [],
   "source": []
  },
  {
   "cell_type": "code",
   "execution_count": null,
   "id": "54326ed7-f7ab-4f4c-a72a-bbf22d1290cd",
   "metadata": {},
   "outputs": [],
   "source": []
  },
  {
   "cell_type": "code",
   "execution_count": null,
   "id": "1eb6a828-1270-4749-8a58-34221b7a20c0",
   "metadata": {},
   "outputs": [],
   "source": []
  },
  {
   "cell_type": "code",
   "execution_count": null,
   "id": "81e84b94-b236-4a8d-af7d-9f01ca0c1683",
   "metadata": {},
   "outputs": [],
   "source": []
  },
  {
   "cell_type": "code",
   "execution_count": null,
   "id": "8fb81dcb-34b2-4b31-8727-153a9d195d15",
   "metadata": {},
   "outputs": [],
   "source": []
  },
  {
   "cell_type": "code",
   "execution_count": null,
   "id": "84f297ab-0fc3-4275-9eb8-d5bbe4aefdcb",
   "metadata": {},
   "outputs": [],
   "source": []
  }
 ],
 "metadata": {
  "kernelspec": {
   "display_name": "Python 3 (ipykernel)",
   "language": "python",
   "name": "python3"
  },
  "language_info": {
   "codemirror_mode": {
    "name": "ipython",
    "version": 3
   },
   "file_extension": ".py",
   "mimetype": "text/x-python",
   "name": "python",
   "nbconvert_exporter": "python",
   "pygments_lexer": "ipython3",
   "version": "3.10.8"
  }
 },
 "nbformat": 4,
 "nbformat_minor": 5
}

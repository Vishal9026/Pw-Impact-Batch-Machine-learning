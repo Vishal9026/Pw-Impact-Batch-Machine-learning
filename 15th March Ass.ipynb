{
 "cells": [
  {
   "cell_type": "markdown",
   "id": "08883c35-ba2f-4940-9565-db4f508ab929",
   "metadata": {},
   "source": [
    "# #Q1.Explain the following with an example:\n",
    "\n",
    "1-Artificial Intelligence\n",
    "\n",
    "2-Machine Learning\n",
    "\n",
    "3-Deep Learning\n"
   ]
  },
  {
   "cell_type": "markdown",
   "id": "1880500f-5e46-4ea1-97b4-97feb0cc1b6f",
   "metadata": {},
   "source": [
    "# 1. Artificial Intelligence (AI):"
   ]
  },
  {
   "cell_type": "markdown",
   "id": "47fe4304-ba05-47c0-b200-35e404deb782",
   "metadata": {},
   "source": [
    "Artificial Intelligence (AI) is the simulation of human intelligence processes by computer systems. AI can perform tasks that typically require human intelligence, such as understanding natural language, recognizing speech and images, and making decisions."
   ]
  },
  {
   "cell_type": "markdown",
   "id": "94886189-a1a2-4080-acc3-14d7594dcbbc",
   "metadata": {},
   "source": [
    "Example:\n",
    "\n",
    "Artificial Intelligence (AI) is the simulation of human intelligence processes by computer systems. AI can perform tasks that typically require human intelligence, such as understanding natural language, recognizing speech and images, and making decisions."
   ]
  },
  {
   "cell_type": "markdown",
   "id": "d8896c98-49e7-4b26-ae19-bb2a3bf2bf53",
   "metadata": {},
   "source": [
    "# 2-Machine Learning (ML):\n",
    "\n",
    "Machine learning is a branch of artificial intelligence (AI) and computer science which focuses on the use of data and algorithms to imitate the way that humans learn, gradually improving its accuracy.\n",
    "    "
   ]
  },
  {
   "cell_type": "code",
   "execution_count": null,
   "id": "38c9ce0f-088b-4834-8569-2c9b2ec58736",
   "metadata": {},
   "outputs": [],
   "source": [
    " Machine learning algorithms can be classified into four main categories:"
   ]
  },
  {
   "cell_type": "markdown",
   "id": "078cae65-f3c8-46e3-a5be-fb9fff804c47",
   "metadata": {},
   "source": [
    "Supervised Learning\n",
    "Unsupervised Learning\n",
    "Reinforcement Learning\n",
    "Semi-Supervised Learning"
   ]
  },
  {
   "cell_type": "markdown",
   "id": "308aff34-d188-4b17-a7a3-d382beb947c2",
   "metadata": {},
   "source": [
    "Example:\n",
    "\n",
    "An example of machine learning is email filtering. Email providers like Gmail use machine learning algorithms to classify incoming emails as spam or not spam. The algorithm learns from patterns in the text and other features of the email to make a prediction about whether the email is spam or not."
   ]
  },
  {
   "cell_type": "markdown",
   "id": "7871f841-7577-4516-86e8-e4a453e32b9e",
   "metadata": {},
   "source": [
    "# 3. Deep Learning:"
   ]
  },
  {
   "cell_type": "markdown",
   "id": "153d23f6-77dc-43ce-8698-91ac07e10311",
   "metadata": {},
   "source": [
    "Deep Learning is a subset of machine learning that uses neural networks to model and solve complex problems. Deep learning algorithms use multiple layers of interconnected nodes to process and learn from data. Deep learning is capable of learning from unstructured data such as images, videos, and audio.\n",
    "\n",
    "Example:\n",
    "\n",
    "An example of deep learning is image recognition. Deep learning models can be trained to identify objects within images, such as cars or people. These models use convolutional neural networks (CNNs) to analyze the features of an image and classify it into different categories based on those features. For example, a deep learning model could be trained to identify different breeds of dogs within a photo."
   ]
  },
  {
   "cell_type": "markdown",
   "id": "ea67c07d-a801-4db7-9c15-61e8167de79b",
   "metadata": {},
   "source": [
    "# Q2. What is supervised learning? List some examples of supervised learning."
   ]
  },
  {
   "cell_type": "markdown",
   "id": "4bbba77d-86cd-44ba-9f04-d83162eebea7",
   "metadata": {},
   "source": [
    "Supervised learning, also known as supervised machine learning, is a subcategory of machine learning and artificial intelligence. It is defined by its use of labeled datasets to train algorithms that to classify data or predict outcomes accurately."
   ]
  },
  {
   "cell_type": "markdown",
   "id": "34280f08-a2fc-494c-a301-ad0baa58cd5f",
   "metadata": {},
   "source": [
    "Examples of unsupervised learning:\n",
    "\n",
    "1.Clustering: The task of grouping similar examples together based on their characteristics. This can be used for customer segmentation, image segmentation, or anomaly detection.\n",
    "\n",
    "2.Dimensionality reduction: The task of reducing the number of features in a dataset while retaining as much of the relevant information as possible. This can be used for visualizing high-dimensional data, speeding up training of supervised learning models, or data compression.\n",
    "\n",
    "3.Association rule mining: The task of discovering interesting relationships between items in a dataset. This can be used for market basket analysis or recommendation systems.\n",
    "\n",
    "4.Generative modeling: The task of learning the underlying distribution of a dataset and generating new examples that are similar to the original data. This can be used for generating realistic images or music."
   ]
  },
  {
   "cell_type": "markdown",
   "id": "8d715a1b-e9e5-432f-8de1-bad0c7fa91ff",
   "metadata": {},
   "source": [
    "# Q4. What is the difference between AI, ML, DL, and DS?"
   ]
  },
  {
   "cell_type": "markdown",
   "id": "b6bc38e1-0dbf-4114-b531-f25a7327efd5",
   "metadata": {},
   "source": [
    "Artificial Intelligence (AI) enables machines to think by understanding, learning from the data, and taking decisions based on patterns hidden in the data or make inferences that would otherwise be very difficult for humans to make manually. The end goal of using ML or DL is to create an AI application or machine as smart as humans.\n",
    "\n",
    "Machine Learning (ML) is a subset of AI; it provides us statistical tools/techniques like Supervised, Unsupervised, and Reinforcement learning to explore and analyze the data.\n",
    "\n",
    "Deep Learning (DL) is further a subset of ML, and the main idea behind it is to make machines learn by mimicking the human brain. Here, we create a multi neural network architecture with the help of different techniques like ANN, CNN, and RNN.\n",
    "\n",
    "Data Science (DS) is basically drawing insights from structured and unstructured data either by using ML or DL or without these techniques. We can even use different visualization tools, statistics, and probability to gain these insights."
   ]
  },
  {
   "cell_type": "markdown",
   "id": "a6f8192f-1b57-4dae-a394-6d3cc0af239a",
   "metadata": {},
   "source": [
    "# Q5. What are the main differences between supervised learning, unsupervised learning, and semi-supervised learning?\n"
   ]
  },
  {
   "cell_type": "markdown",
   "id": "59805212-2b2e-46b0-8078-346b6eb60963",
   "metadata": {},
   "source": [
    "1-Supervised learning: In supervised learning, the model is trained on labeled data, where the input and output pairs are known. The objective of the model is to learn a mapping between input features and the corresponding output. The labeled data is used to train the model, and the model is then tested on new, unseen data. The goal of supervised learning is to make accurate predictions on new, unseen data.\n",
    "\n",
    "2-Unsupervised learning: In unsupervised learning, the model is trained on unlabeled data, where the input data has no corresponding output. The objective of the model is to identify patterns or structure in the input data. Unsupervised learning can be used for tasks such as clustering, dimensionality reduction, and anomaly detection. The goal of unsupervised learning is to gain insights into the data and discover interesting relationships or anomalies that can be further explored or used for decision-making.\n",
    "\n",
    "3-Semi-supervised learning: In semi-supervised learning, the model is trained on a combination of labeled and unlabeled data. The labeled data is used to guide the learning process, while the unlabeled data is used to improve the generalization performance of the model. Semi-supervised learning can be useful when labeled data is scarce or expensive to obtain. The goal of semi-supervised learning is to make accurate predictions on new, unseen data while using as much of the available data as possible."
   ]
  },
  {
   "cell_type": "markdown",
   "id": "48dfd5e0-a47d-4091-a62a-70aee0507aba",
   "metadata": {},
   "source": [
    "# Q6. What is train, test and validation split? Explain the importance of each term.\n",
    "\n",
    "The train, test, and validation split involves dividing the dataset into three parts:\n",
    "\n",
    "1-Train set: This is the part of the dataset used to train the model. The model learns the patterns and relationships in the data through this set. Typically, the train set consists of 60-80% of the entire dataset.\n",
    "\n",
    "The train set is important because it is used to teach the model how to make accurate predictions on new, unseen data. The model learns the patterns and relationships in the data through this set.\n",
    "\n",
    "2-Test set: This is the part of the dataset used to evaluate the performance of the trained model on unseen data. The model is applied to the test set, and the resulting predictions are compared to the true values to evaluate the accuracy of the model. Typically, the test set consists of 20-40% of the entire dataset.\n",
    "\n",
    "The test set is important because it is used to evaluate the performance of the trained model on unseen data. This helps to ensure that the model can make accurate predictions on new data and is not overfitting the training data.\n",
    "\n",
    "3-Validation set: This is an optional part of the dataset used to fine-tune the model hyperparameters and prevent overfitting. The validation set is used to evaluate the performance of the model on data that is not used for training or testing. This helps to prevent the model from becoming too complex and overfitting the training data. Typically, the validation set consists of 10-20% of the entire dataset.\n",
    "\n",
    "The validation set is important because it is used to fine-tune the model hyperparameters and prevent overfitting. By evaluating the performance of the model on data that is not used for training or testing, we can ensure that the model is not becoming too complex and overfitting the training data."
   ]
  },
  {
   "cell_type": "markdown",
   "id": "8f1b9b00-121d-4610-8c46-2d065715746e",
   "metadata": {},
   "source": [
    "# Q7. How can unsupervised learning be used for anomaly detection?"
   ]
  },
  {
   "cell_type": "markdown",
   "id": "0d3ac8aa-cb2b-4fce-97c3-f262cbdce02a",
   "metadata": {},
   "source": [
    "Unsupervised learning can be used for anomaly detection by identifying patterns and structures in the data that deviate from the norm. Anomaly detection is the process of identifying data points that are significantly different from the majority of the data, and it is an important problem in many fields, including finance, healthcare, and cybersecurity.\n",
    "\n",
    "Unsupervised learning algorithms do not rely on labeled data, so they can be used to detect anomalies in datasets where there are no pre-defined classes or labels for the anomalies. Clustering, density estimation, dimensionality reduction, and one-class classification are common unsupervised learning techniques used for anomaly detection. By identifying anomalies in the data, we can detect abnormal behavior or events that require further investigation.\n",
    "\n",
    "For example, clustering algorithms can be used to group similar data points together and identify anomalies as data points that do not belong to any cluster or belong to a very small cluster. Density estimation algorithms can be used to estimate the probability distribution of the data and identify anomalies as data points with low probability. Dimensionality reduction algorithms can be used to reduce the number of features in the data while preserving the most important information, and identify anomalies as data points that are far away from the majority of the data in the reduced space. By detecting anomalies in the data, we can identify abnormal behavior or events that require further investigation."
   ]
  },
  {
   "cell_type": "markdown",
   "id": "0c801c3f-bd30-4a71-95c3-77ea0ddd68bf",
   "metadata": {},
   "source": [
    "# Q8. List down some commonly used supervised learning algorithms and unsupervised learning algorithms."
   ]
  },
  {
   "cell_type": "markdown",
   "id": "5a8c1b15-47b0-4e09-b6f4-03af11a30e07",
   "metadata": {},
   "source": [
    "# Supervised Learning Algorithms:"
   ]
  },
  {
   "cell_type": "markdown",
   "id": "e1507984-e9b9-4c74-9d8b-af5845075b85",
   "metadata": {},
   "source": [
    "Linear Regression\n",
    "\n",
    "Logistic Regression\n",
    "\n",
    "Decision Trees\n",
    "\n",
    "Random Forest\n",
    "\n",
    "Support Vector Machines (SVM)\n",
    "\n",
    "K-Nearest Neighbors (KNN)\n",
    "\n",
    "Naive Bayes\n",
    "\n",
    "Artificial Neural Networks (ANN)\n",
    "\n",
    "Gradient Boosting Machines (GBM)\n",
    "\n",
    "XGBoost"
   ]
  },
  {
   "cell_type": "markdown",
   "id": "0da73631-5bfb-437b-ad20-e3ef71426a98",
   "metadata": {},
   "source": [
    "# Unsupervised Learning Algorithms:"
   ]
  },
  {
   "cell_type": "markdown",
   "id": "10471d52-dbca-48c4-a809-9cf2c6acc602",
   "metadata": {},
   "source": [
    "K-Means Clustering\n",
    "\n",
    "Hierarchical Clustering\n",
    "\n",
    "Density-Based Spatial Clustering of Applications with Noise (DBSCAN)\n",
    "\n",
    "Principal Component Analysis (PCA)\n",
    "\n",
    "Independent Component Analysis (ICA)\n",
    "\n",
    "t-Distributed Stochastic Neighbor Embedding (t-SNE)\n",
    "\n",
    "Self-Organizing Maps (SOM)\n",
    "\n",
    "Apriori Algorithm for Association Rule Mining\n",
    "\n",
    "Isolation Forest for Anomaly Detection\n",
    "\n",
    "Gaussian Mixture Models (GMM)"
   ]
  },
  {
   "cell_type": "code",
   "execution_count": null,
   "id": "d8a000a9-f02e-4f8c-a23c-4ae85536720a",
   "metadata": {},
   "outputs": [],
   "source": []
  },
  {
   "cell_type": "code",
   "execution_count": null,
   "id": "7e5a9cb5-883d-4476-85a1-90d857adda4e",
   "metadata": {},
   "outputs": [],
   "source": []
  },
  {
   "cell_type": "code",
   "execution_count": null,
   "id": "628dd1fb-5476-46cd-a963-e51e83456a06",
   "metadata": {},
   "outputs": [],
   "source": []
  },
  {
   "cell_type": "code",
   "execution_count": null,
   "id": "4a452d3b-3088-4e63-871d-d1c7fe9c915e",
   "metadata": {},
   "outputs": [],
   "source": []
  },
  {
   "cell_type": "code",
   "execution_count": null,
   "id": "c5185d74-c724-4aee-905a-8ba954ab60da",
   "metadata": {},
   "outputs": [],
   "source": []
  },
  {
   "cell_type": "code",
   "execution_count": null,
   "id": "20308a22-788c-497d-9f4f-7564c4f3d640",
   "metadata": {},
   "outputs": [],
   "source": []
  },
  {
   "cell_type": "code",
   "execution_count": null,
   "id": "b235ea4c-d6d3-4e15-b6dc-907e1c60b8d2",
   "metadata": {},
   "outputs": [],
   "source": []
  },
  {
   "cell_type": "code",
   "execution_count": null,
   "id": "b00ee886-7392-4799-a9e5-d4a35e64a478",
   "metadata": {},
   "outputs": [],
   "source": []
  },
  {
   "cell_type": "code",
   "execution_count": null,
   "id": "e13c2880-0cf9-42fe-892c-153025de0e90",
   "metadata": {},
   "outputs": [],
   "source": []
  },
  {
   "cell_type": "code",
   "execution_count": null,
   "id": "84709138-92fa-45ce-8e48-75e2340ebc2e",
   "metadata": {},
   "outputs": [],
   "source": []
  },
  {
   "cell_type": "code",
   "execution_count": null,
   "id": "15c2ddab-7390-4504-93ce-39171fac4c37",
   "metadata": {},
   "outputs": [],
   "source": []
  },
  {
   "cell_type": "code",
   "execution_count": null,
   "id": "0a47daa4-e6a2-47ba-b23e-f606490ffca3",
   "metadata": {},
   "outputs": [],
   "source": []
  },
  {
   "cell_type": "code",
   "execution_count": null,
   "id": "4bb7a424-6650-4327-bb16-38eb26b47789",
   "metadata": {},
   "outputs": [],
   "source": []
  }
 ],
 "metadata": {
  "kernelspec": {
   "display_name": "Python 3 (ipykernel)",
   "language": "python",
   "name": "python3"
  },
  "language_info": {
   "codemirror_mode": {
    "name": "ipython",
    "version": 3
   },
   "file_extension": ".py",
   "mimetype": "text/x-python",
   "name": "python",
   "nbconvert_exporter": "python",
   "pygments_lexer": "ipython3",
   "version": "3.10.8"
  }
 },
 "nbformat": 4,
 "nbformat_minor": 5
}

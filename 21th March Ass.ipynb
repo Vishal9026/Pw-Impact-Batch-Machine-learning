{
 "cells": [
  {
   "cell_type": "markdown",
   "id": "ee0f026a-fc3c-463d-beff-228fc708d4fa",
   "metadata": {},
   "source": [
    "# Q1. What is the difference between Ordinal Encoding and Label Encoding? Provide an example of when you might choose one over the other."
   ]
  },
  {
   "cell_type": "markdown",
   "id": "f3a3bddf-d419-409a-9f21-1c6de3e0f3cd",
   "metadata": {},
   "source": [
    "Difference between Ordinal Encoding and Label Encoding\n",
    "\n",
    "Ordinal Encoding:Ordinal encoding assigns a unique integer value to each category in a categorical variable based on its order or rank."
   ]
  },
  {
   "cell_type": "markdown",
   "id": "c393bc00-57f2-48c3-a583-14172c5e96d5",
   "metadata": {},
   "source": [
    "For Example:if we have a data of \"product_quality\" with categories \"good\",\"verygood\",\"bad\" we might assign the value 1,2 and 3 repectively,based on the order of the categories."
   ]
  },
  {
   "cell_type": "markdown",
   "id": "862c4ad3-b0d9-489d-8f6a-e7f696835f62",
   "metadata": {},
   "source": [
    "Label encoding, on the other hand, assigns a unique integer value to each category in a categorical variable without considering any order or rank. For example, if we have a variable called \"color\" with categories \"red,\" \"green,\" and \"blue,\" we might assign the values 1, 2, and 3 respectively, without considering any inherent order to the categories."
   ]
  },
  {
   "cell_type": "markdown",
   "id": "4fb33b24-aab0-40e4-a2d2-60eedeec05ff",
   "metadata": {},
   "source": [
    "# Q2. Explain how Target Guided Ordinal Encoding works and provide an example of when you might use it in a machine learning project."
   ]
  },
  {
   "cell_type": "markdown",
   "id": "87bd7409-4a47-4815-bbb3-bdcd5cbe26b4",
   "metadata": {},
   "source": [
    "Target encoding involves replacing a categorical feature with average target value of all data points belonging to the category.\n"
   ]
  },
  {
   "cell_type": "code",
   "execution_count": 3,
   "id": "94303f90-929d-45e4-a681-ab44acfcdb27",
   "metadata": {},
   "outputs": [],
   "source": [
    "import seaborn as sns\n",
    "\n",
    "df = sns.load_dataset(\"tips\")"
   ]
  },
  {
   "cell_type": "code",
   "execution_count": 4,
   "id": "ebb620b5-227b-4ea5-8f41-cba51a581f4b",
   "metadata": {},
   "outputs": [],
   "source": [
    "import pandas as pd  "
   ]
  },
  {
   "cell_type": "code",
   "execution_count": 5,
   "id": "ba0d88ed-390e-4452-a4dd-4a74cb5a6185",
   "metadata": {},
   "outputs": [],
   "source": [
    "mean_price = df.groupby(\"day\")[\"total_bill\"].mean().to_dict()"
   ]
  },
  {
   "cell_type": "code",
   "execution_count": 6,
   "id": "70a8e663-068b-45eb-b377-3a8d5cbe8888",
   "metadata": {},
   "outputs": [],
   "source": [
    "df[\"day_encoder\"] =df[\"day\"].map(mean_price) "
   ]
  },
  {
   "cell_type": "code",
   "execution_count": 8,
   "id": "5bbc8ae1-85e3-4690-aeb8-99cd53d9f1a8",
   "metadata": {},
   "outputs": [
    {
     "data": {
      "text/html": [
       "<div>\n",
       "<style scoped>\n",
       "    .dataframe tbody tr th:only-of-type {\n",
       "        vertical-align: middle;\n",
       "    }\n",
       "\n",
       "    .dataframe tbody tr th {\n",
       "        vertical-align: top;\n",
       "    }\n",
       "\n",
       "    .dataframe thead th {\n",
       "        text-align: right;\n",
       "    }\n",
       "</style>\n",
       "<table border=\"1\" class=\"dataframe\">\n",
       "  <thead>\n",
       "    <tr style=\"text-align: right;\">\n",
       "      <th></th>\n",
       "      <th>total_bill</th>\n",
       "      <th>tip</th>\n",
       "      <th>sex</th>\n",
       "      <th>smoker</th>\n",
       "      <th>day</th>\n",
       "      <th>time</th>\n",
       "      <th>size</th>\n",
       "      <th>day_encoder</th>\n",
       "    </tr>\n",
       "  </thead>\n",
       "  <tbody>\n",
       "    <tr>\n",
       "      <th>0</th>\n",
       "      <td>16.99</td>\n",
       "      <td>1.01</td>\n",
       "      <td>Female</td>\n",
       "      <td>No</td>\n",
       "      <td>Sun</td>\n",
       "      <td>Dinner</td>\n",
       "      <td>2</td>\n",
       "      <td>21.41</td>\n",
       "    </tr>\n",
       "    <tr>\n",
       "      <th>1</th>\n",
       "      <td>10.34</td>\n",
       "      <td>1.66</td>\n",
       "      <td>Male</td>\n",
       "      <td>No</td>\n",
       "      <td>Sun</td>\n",
       "      <td>Dinner</td>\n",
       "      <td>3</td>\n",
       "      <td>21.41</td>\n",
       "    </tr>\n",
       "    <tr>\n",
       "      <th>2</th>\n",
       "      <td>21.01</td>\n",
       "      <td>3.50</td>\n",
       "      <td>Male</td>\n",
       "      <td>No</td>\n",
       "      <td>Sun</td>\n",
       "      <td>Dinner</td>\n",
       "      <td>3</td>\n",
       "      <td>21.41</td>\n",
       "    </tr>\n",
       "    <tr>\n",
       "      <th>3</th>\n",
       "      <td>23.68</td>\n",
       "      <td>3.31</td>\n",
       "      <td>Male</td>\n",
       "      <td>No</td>\n",
       "      <td>Sun</td>\n",
       "      <td>Dinner</td>\n",
       "      <td>2</td>\n",
       "      <td>21.41</td>\n",
       "    </tr>\n",
       "    <tr>\n",
       "      <th>4</th>\n",
       "      <td>24.59</td>\n",
       "      <td>3.61</td>\n",
       "      <td>Female</td>\n",
       "      <td>No</td>\n",
       "      <td>Sun</td>\n",
       "      <td>Dinner</td>\n",
       "      <td>4</td>\n",
       "      <td>21.41</td>\n",
       "    </tr>\n",
       "  </tbody>\n",
       "</table>\n",
       "</div>"
      ],
      "text/plain": [
       "   total_bill   tip     sex smoker  day    time  size day_encoder\n",
       "0       16.99  1.01  Female     No  Sun  Dinner     2       21.41\n",
       "1       10.34  1.66    Male     No  Sun  Dinner     3       21.41\n",
       "2       21.01  3.50    Male     No  Sun  Dinner     3       21.41\n",
       "3       23.68  3.31    Male     No  Sun  Dinner     2       21.41\n",
       "4       24.59  3.61  Female     No  Sun  Dinner     4       21.41"
      ]
     },
     "execution_count": 8,
     "metadata": {},
     "output_type": "execute_result"
    }
   ],
   "source": [
    "df.head()"
   ]
  },
  {
   "cell_type": "markdown",
   "id": "f5b5b8e6-fcd2-42db-b3ea-019c54c70af8",
   "metadata": {},
   "source": [
    "# Q3. Define covariance and explain why it is important in statistical analysis. How is covariance calculated?"
   ]
  },
  {
   "cell_type": "markdown",
   "id": "1b1c673a-0ca8-4ed8-941a-392f930c110d",
   "metadata": {},
   "source": [
    "Covariance is a statistical measure that describes the relationship between two random variables. Specifically, it measures how much two variables vary together, meaning how much the values of one variable change when the values of the other variable change. A positive covariance indicates that the two variables tend to increase or decrease together, while a negative covariance indicates that they tend to vary in opposite directions. A covariance of zero indicates that there is no linear relationship between the two variables.\n",
    "\n",
    "Covariance is important in statistical analysis because it provides a way to measure the strength and direction of the relationship between two variables. This relationship can be used to better understand the underlying data and can help in modeling and prediction. For example, in finance, the covariance between two stocks can be used to construct a diversified portfolio that minimizes risk. In machine learning, covariance is used in dimensionality reduction techniques such as principal component analysis (PCA) to find the most important features or variables.\n",
    "\n",
    "The formula for calculating the covariance between two variables X and Y is:\n",
    "\n",
    "cov(X, Y) = E[(X - μX) * (Y - μY)]\n",
    "\n",
    "Where E[] represents the expected value or mean, μX and μY are the means of X and Y, and * represents multiplication.\n",
    "\n",
    "In practice, the covariance is often estimated from a sample of data using the following formula:\n",
    "\n",
    "cov(X, Y) = Σ[(xi - μX) * (yi - μY)] / (n - 1)\n",
    "\n",
    "Where Σ represents the sum, xi and yi are the individual observations of X and Y, μX and μY are the sample means of X and Y, and n is the sample size.\n",
    "\n",
    "It is important to note that the magnitude of the covariance depends on the units of measurement of the two variables. Therefore, it is common to normalize the covariance by dividing it by the product of the standard deviations of X and Y. This normalized version is called the correlation coefficient, which ranges from -1 to 1 and is unitless."
   ]
  },
  {
   "cell_type": "markdown",
   "id": "9e2a7752-ef76-4829-963f-47f75a33d477",
   "metadata": {},
   "source": [
    "# Q4. For a dataset with the following categorical variables: Color (red, green, blue), Size (small, medium, large), and Material (wood, metal, plastic), perform label encoding using Python's scikit-learn library. Show your code and explain the output."
   ]
  },
  {
   "cell_type": "code",
   "execution_count": 9,
   "id": "c626efeb-9a03-4d02-ae7f-bcf73a10cb29",
   "metadata": {},
   "outputs": [
    {
     "name": "stdout",
     "output_type": "stream",
     "text": [
      "   Color    Size Material  Color_Encoded  Size_Encoded  Material_Encoded\n",
      "0    red   small     wood              2             2                 2\n",
      "1  green  medium    metal              1             1                 0\n",
      "2   blue   large  plastic              0             0                 1\n",
      "3   blue   small     wood              0             2                 2\n",
      "4  green  medium  plastic              1             1                 1\n",
      "5    red  medium    metal              2             1                 0\n"
     ]
    }
   ],
   "source": [
    "from sklearn.preprocessing import LabelEncoder\n",
    "import pandas as pd\n",
    "\n",
    "# create sample data\n",
    "data = {'Color': ['red', 'green', 'blue', 'blue', 'green', 'red'],\n",
    "        'Size': ['small', 'medium', 'large', 'small', 'medium', 'medium'],\n",
    "        'Material': ['wood', 'metal', 'plastic', 'wood', 'plastic', 'metal']}\n",
    "df = pd.DataFrame(data)\n",
    "\n",
    "# create a label encoder object\n",
    "le = LabelEncoder()\n",
    "\n",
    "# encode categorical variables\n",
    "df['Color_Encoded'] = le.fit_transform(df['Color'])\n",
    "df['Size_Encoded'] = le.fit_transform(df['Size'])\n",
    "df['Material_Encoded'] = le.fit_transform(df['Material'])\n",
    "\n",
    "# print the encoded dataset\n",
    "print(df)"
   ]
  },
  {
   "cell_type": "markdown",
   "id": "5a5af8af-1f25-4bf7-8a56-5e90741cadd1",
   "metadata": {},
   "source": [
    "In this example, we create a sample dataset with three categorical variables: Color, Size, and Material. We then create a label encoder object using scikit-learn's LabelEncoder class, and use it to encode each of the categorical variables into numeric values.\n",
    "\n",
    "The fit_transform method is used to fit the label encoder to the data and transform the categorical variable into encoded numeric values. We do this separately for each categorical variable, and create new columns in the original dataset to store the encoded values.\n",
    "\n",
    "The output shows the original dataset with the three categorical variables, followed by the encoded values for each variable. The encoded values are represented by integers, with each unique category being assigned a unique integer. The encoding is arbitrary and does not imply any ordering or magnitude of the categories."
   ]
  },
  {
   "cell_type": "markdown",
   "id": "0bcb4f6c-9457-4354-a4cd-885111b5445a",
   "metadata": {},
   "source": [
    "# Q5. Calculate the covariance matrix for the following variables in a dataset: Age, Income, and Education level. Interpret the results."
   ]
  },
  {
   "cell_type": "code",
   "execution_count": 11,
   "id": "b3e2bca8-e61c-4557-97ea-f05f43ed890f",
   "metadata": {},
   "outputs": [
    {
     "name": "stdout",
     "output_type": "stream",
     "text": [
      "[[8.49544768e+08 1.11030304e+09 1.26167933e+09 1.34575202e+09\n",
      "  1.42985837e+09]\n",
      " [1.11030304e+09 1.45109816e+09 1.64893770e+09 1.75881557e+09\n",
      "  1.86873742e+09]\n",
      " [1.26167933e+09 1.64893770e+09 1.87375026e+09 1.99860864e+09\n",
      "  2.12351699e+09]\n",
      " [1.34575202e+09 1.75881557e+09 1.99860864e+09 2.13178703e+09\n",
      "  2.26501871e+09]\n",
      " [1.42985837e+09 1.86873742e+09 2.12351699e+09 2.26501871e+09\n",
      "  2.40657707e+09]]\n"
     ]
    }
   ],
   "source": [
    "import numpy as np\n",
    "import pandas as pd\n",
    "\n",
    "# create a sample dataset with Age, Income, and Education level\n",
    "data = {'Age': [20, 25, 32, 38, 40],\n",
    "        'Income': [50500, 66000, 75000, 80000, 85000],\n",
    "        'Education': [12, 16, 18, 20, 22]}\n",
    "df = pd.DataFrame(data)\n",
    "\n",
    "# calculate the covariance matrix using NumPy\n",
    "cov_matrix = np.cov(df)\n",
    "\n",
    "# print the covariance matrix\n",
    "print(cov_matrix)"
   ]
  },
  {
   "cell_type": "markdown",
   "id": "3cb69d5f-87e8-4ad3-9545-6621b5b5f66f",
   "metadata": {},
   "source": [
    "# Q6. You are working on a machine learning project with a dataset containing several categorical variables, including \"Gender\" (Male/Female), \"Education Level\" (High School/Bachelor's/Master's/PhD), and \"Employment Status\" (Unemployed/Part-Time/Full-Time). Which encoding method would you use for each variable, and why?"
   ]
  },
  {
   "cell_type": "markdown",
   "id": "5a50dd2f-7e51-4ae1-a930-a339ba3d7fd0",
   "metadata": {},
   "source": [
    "For the \"Gender\" variable, I would use binary encoding or label encoding, since there are only two categories (Male and Female). Binary encoding would create a new column with binary values (0 and 1) to represent the two categories, while label encoding would replace the categories with numerical values (e.g. 0 for Male and 1 for Female).\n",
    "\n",
    "For the \"Education Level\" variable, I would use ordinal encoding, since there is an inherent order to the categories (High School < Bachelor's < Master's < PhD). Ordinal encoding assigns numerical values to the categories based on their order, such as 0 for High School, 1 for Bachelor's, 2 for Master's, and 3 for PhD.\n",
    "\n",
    "For the \"Employment Status\" variable, I would use one-hot encoding, since there is no inherent order to the categories (Unemployed, Part-Time, Full-Time) and each category is equally important. One-hot encoding creates a new column for each category and assigns a binary value (0 or 1) to indicate whether the category is present or not. For example, the \"Unemployed\" column would have a value of 1 for rows where the person is unemployed and a value of 0 for rows where the person is employed.\n",
    "\n",
    "It's important to choose the appropriate encoding method for each variable to ensure that the encoded features accurately represent the underlying data and can be effectively used by machine learning algorithms."
   ]
  },
  {
   "cell_type": "markdown",
   "id": "09dcb539-f775-43d4-a78a-a39fe01e5916",
   "metadata": {},
   "source": [
    "# Q7. You are analyzing a dataset with two continuous variables, \"Temperature\" and \"Humidity\", and two categorical variables, \"Weather Condition\" (Sunny/Cloudy/Rainy) and \"Wind Direction\" (North/South/East/West). Calculate the covariance between each pair of variables and interpret the results."
   ]
  },
  {
   "cell_type": "code",
   "execution_count": 12,
   "id": "1a6598a9-2bde-4f7c-be12-7d4d5a96078a",
   "metadata": {},
   "outputs": [
    {
     "name": "stdout",
     "output_type": "stream",
     "text": [
      "[[62.5 62.5]\n",
      " [62.5 62.5]]\n"
     ]
    }
   ],
   "source": [
    "import numpy as np\n",
    "import pandas as pd\n",
    "\n",
    "# create a sample dataset with Temperature, Humidity, Weather Condition, and Wind Direction\n",
    "data = {'Temperature': [20, 25, 30, 35, 40],\n",
    "        'Humidity': [50, 55, 60, 65, 70],\n",
    "        'Weather Condition': ['Sunny', 'Sunny', 'Cloudy', 'Rainy', 'Rainy'],\n",
    "        'Wind Direction': ['North', 'South', 'East', 'West', 'North']}\n",
    "df = pd.DataFrame(data)\n",
    "\n",
    "# calculate the covariance matrix using NumPy\n",
    "cov_matrix = np.cov(df[['Temperature', 'Humidity']].T)\n",
    "\n",
    "# print the covariance matrix\n",
    "print(cov_matrix)"
   ]
  },
  {
   "cell_type": "code",
   "execution_count": null,
   "id": "b9db3c0d-f6b2-476c-97b2-6932835fe84d",
   "metadata": {},
   "outputs": [],
   "source": []
  },
  {
   "cell_type": "code",
   "execution_count": null,
   "id": "958d1bf2-a7c1-4572-a439-9f8764a9054b",
   "metadata": {},
   "outputs": [],
   "source": []
  },
  {
   "cell_type": "code",
   "execution_count": null,
   "id": "3d2e32e8-f9aa-469b-a7da-bdac4db951d4",
   "metadata": {},
   "outputs": [],
   "source": []
  },
  {
   "cell_type": "code",
   "execution_count": null,
   "id": "da686bda-fcf9-45b5-a894-81f7102ffa72",
   "metadata": {},
   "outputs": [],
   "source": []
  },
  {
   "cell_type": "code",
   "execution_count": null,
   "id": "631564a6-58fe-4379-a485-a1c00a261478",
   "metadata": {},
   "outputs": [],
   "source": []
  },
  {
   "cell_type": "code",
   "execution_count": null,
   "id": "bec4fa97-8b90-4765-9424-b21f91432c31",
   "metadata": {},
   "outputs": [],
   "source": []
  },
  {
   "cell_type": "code",
   "execution_count": null,
   "id": "a9b9de45-1646-45fe-a8da-ff1d9e5fa917",
   "metadata": {},
   "outputs": [],
   "source": []
  },
  {
   "cell_type": "code",
   "execution_count": null,
   "id": "b2703a84-f307-4de2-9b38-ed92e69dedfa",
   "metadata": {},
   "outputs": [],
   "source": []
  },
  {
   "cell_type": "code",
   "execution_count": null,
   "id": "d6527f37-295d-4393-86ac-ed3235a3c783",
   "metadata": {},
   "outputs": [],
   "source": []
  },
  {
   "cell_type": "code",
   "execution_count": null,
   "id": "c8069a5a-30d2-4e8b-9bd1-5d3bdcaecc79",
   "metadata": {},
   "outputs": [],
   "source": []
  },
  {
   "cell_type": "code",
   "execution_count": null,
   "id": "3ac4de22-ec7a-4340-87c5-dc81f7830532",
   "metadata": {},
   "outputs": [],
   "source": []
  },
  {
   "cell_type": "code",
   "execution_count": null,
   "id": "baf11144-1897-4657-bede-2ab6264ebc0e",
   "metadata": {},
   "outputs": [],
   "source": []
  },
  {
   "cell_type": "code",
   "execution_count": null,
   "id": "e47d0370-c868-4e59-9097-24006448c9a9",
   "metadata": {},
   "outputs": [],
   "source": []
  }
 ],
 "metadata": {
  "kernelspec": {
   "display_name": "Python 3 (ipykernel)",
   "language": "python",
   "name": "python3"
  },
  "language_info": {
   "codemirror_mode": {
    "name": "ipython",
    "version": 3
   },
   "file_extension": ".py",
   "mimetype": "text/x-python",
   "name": "python",
   "nbconvert_exporter": "python",
   "pygments_lexer": "ipython3",
   "version": "3.10.8"
  }
 },
 "nbformat": 4,
 "nbformat_minor": 5
}
